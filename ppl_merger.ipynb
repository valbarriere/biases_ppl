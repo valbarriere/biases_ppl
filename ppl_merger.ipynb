{
 "cells": [
  {
   "cell_type": "code",
   "execution_count": 2,
   "metadata": {},
   "outputs": [],
   "source": [
    "import os\n",
    "import pickle as pkl\n",
    "\n",
    "ppl_folder = \"male_ppl\"\n",
    "countries = [\n",
    "    \"France\", \"United_Kingdom\", \"Ireland\", \"Spain\",\n",
    "    \"Germany\", \"Italy\", \"Morocco\", \"India\",\n",
    "    \"Canada\", \"Australia\", \"New_Zealand\", \"United_States\",\n",
    "    \"South_Africa\", \"Portugal\", \"Hungary\", \"Poland\",\n",
    "    \"Turkey\"\n",
    "    ]\n",
    "file_fmt = \"Perturbed_Eurotweets_English_val_without_line_return.tsv_clean_test_PPL_{country}.pkl\"\n",
    "all_dicts = []\n",
    "for country in countries:\n",
    "    with open(os.path.join(ppl_folder, file_fmt.format(country=country)), \"rb\") as in_file:\n",
    "        pkl_dict = pkl.load(in_file)\n",
    "        all_dicts.append(pkl_dict)"
   ]
  },
  {
   "cell_type": "code",
   "execution_count": 22,
   "metadata": {},
   "outputs": [],
   "source": [
    "base_dict = {}\n",
    "for dic in all_dicts:\n",
    "    base_dict = {**base_dict, **dic}"
   ]
  },
  {
   "cell_type": "code",
   "execution_count": 30,
   "metadata": {},
   "outputs": [],
   "source": [
    "with open(os.path.join(ppl_folder, file_fmt.format(country=\"male_mixtral\")), \"wb\") as out_file:\n",
    "    pkl.dump(base_dict, out_file)"
   ]
  }
 ],
 "metadata": {
  "kernelspec": {
   "display_name": "biases",
   "language": "python",
   "name": "python3"
  },
  "language_info": {
   "codemirror_mode": {
    "name": "ipython",
    "version": 3
   },
   "file_extension": ".py",
   "mimetype": "text/x-python",
   "name": "python",
   "nbconvert_exporter": "python",
   "pygments_lexer": "ipython3",
   "version": "3.8.18"
  }
 },
 "nbformat": 4,
 "nbformat_minor": 2
}
